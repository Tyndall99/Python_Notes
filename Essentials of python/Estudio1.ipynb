{
 "cells": [
  {
   "cell_type": "markdown",
   "metadata": {},
   "source": [
    "# Pequeño tutorial de Python\n",
    "\n",
    "Con cosas que puede que necesite en un futuro y que son curiosas de Python."
   ]
  },
  {
   "cell_type": "markdown",
   "metadata": {},
   "source": [
    "1. Creación de la función factorial $n!$"
   ]
  },
  {
   "cell_type": "code",
   "execution_count": 1,
   "metadata": {},
   "outputs": [],
   "source": [
    "def factorial(n):\n",
    "\n",
    "    if isinstance(n, int) and n>0:\n",
    "        aux = [i for i in range(1,n+1)]\n",
    "        prod = 1\n",
    "        for number in aux:\n",
    "            prod *= number\n",
    "        return prod\n",
    "    else:\n",
    "        print(\"Please, introduce an int number > 0\")"
   ]
  },
  {
   "cell_type": "markdown",
   "metadata": {},
   "source": [
    "2. Determinar numeros en cierta base numeral:"
   ]
  },
  {
   "cell_type": "code",
   "execution_count": 2,
   "metadata": {},
   "outputs": [
    {
     "data": {
      "text/plain": [
       "'el número binario \"01010100\" es 84.00 y el número hexadecimal \"2ab\" es 683.000'"
      ]
     },
     "execution_count": 2,
     "metadata": {},
     "output_type": "execute_result"
    }
   ],
   "source": [
    "base2_to_decimal = int('01010100',2)\n",
    "base16_to_decimal = int('2ab', 16)\n",
    "#Podemos escribir los resultados con un format f, y podemos cambiar el número de decimales con {\"resultado\":.\"numero de decimales\"f}\n",
    "f'el número binario \"01010100\" es {base2_to_decimal:.2f} y el número hexadecimal \"2ab\" es {base16_to_decimal:.3f}'"
   ]
  },
  {
   "cell_type": "code",
   "execution_count": 3,
   "metadata": {},
   "outputs": [],
   "source": [
    "def Hex2dec(number):\n",
    "\n",
    "    base16 = {'0':0, '1':1, '2':2, '3':3, '4':4, '5':5, '6':6, '7':7, '8':8, '9':9, 'a': 10, 'A':10, 'b':11, 'B':11,\n",
    "              'c':12, 'C':12, 'd':13, 'D':13, 'e':14, 'E':14, 'f':15, 'F':15}\n",
    "    \n",
    "    for char in number:\n",
    "        if char not in base16.keys():\n",
    "            print('Please, introduce a valid Hexadecimal number')\n",
    "\n",
    "    aux = [base16[v]*16**(len(number)-1-i) for i, v in enumerate(number)]\n",
    "    return sum(aux)\n"
   ]
  },
  {
   "cell_type": "markdown",
   "metadata": {},
   "source": [
    "3. Multilineas en Strings de Python"
   ]
  },
  {
   "cell_type": "code",
   "execution_count": 4,
   "metadata": {},
   "outputs": [
    {
     "name": "stdout",
     "output_type": "stream",
     "text": [
      "\n",
      "Hola a todos, este es un string con multilineas\n",
      "Puedo escribir un bloque de palabras\n",
      "con los espacios que quiera, y termina cuando se coloca '''\n",
      "\n"
     ]
    }
   ],
   "source": [
    "Multi_line_Str = \"\"\"\n",
    "Hola a todos, este es un string con multilineas\n",
    "Puedo escribir un bloque de palabras\n",
    "con los espacios que quiera, y termina cuando se coloca \\'\\'\\'\n",
    "\"\"\"\n",
    "print(Multi_line_Str)"
   ]
  },
  {
   "cell_type": "markdown",
   "metadata": {},
   "source": [
    "4. Bytes y decodificación"
   ]
  },
  {
   "cell_type": "code",
   "execution_count": 5,
   "metadata": {},
   "outputs": [
    {
     "data": {
      "text/plain": [
       "\"los bytes del emoji en utf-8 es b'\\\\xf0\\\\x9f\\\\x98\\\\x85' que al decodificar es 😅.\""
      ]
     },
     "execution_count": 5,
     "metadata": {},
     "output_type": "execute_result"
    }
   ],
   "source": [
    "bytes_emoji = bytes('😅','utf-8') #es INMUTABLE\n",
    "emoji_decoded = bytes_emoji.decode('utf-8')\n",
    "f'los bytes del emoji en utf-8 es {bytes_emoji} que al decodificar es {emoji_decoded}.'"
   ]
  },
  {
   "cell_type": "code",
   "execution_count": 6,
   "metadata": {},
   "outputs": [
    {
     "data": {
      "text/plain": [
       "'al modificar los bytes del emoji de 152 a 153, obtenemos el emoji 🙅'"
      ]
     },
     "execution_count": 6,
     "metadata": {},
     "output_type": "execute_result"
    }
   ],
   "source": [
    "bytes_emoji_array = bytearray('😅','utf-8') #es MUTABLE, cada elemento del array es la representación decimal del numero hexadecimal del byte\n",
    "bytes_emoji_array[2] = int('99',16)\n",
    "emoji_decoded_array = bytes_emoji_array.decode(\"utf-8\")\n",
    "f'al modificar los bytes del emoji de {bytes_emoji[2]} a {bytes_emoji_array[2]}, obtenemos el emoji {emoji_decoded_array}'"
   ]
  },
  {
   "cell_type": "markdown",
   "metadata": {},
   "source": [
    "5. Comprensión de Listas y Diccionarios"
   ]
  },
  {
   "cell_type": "code",
   "execution_count": 7,
   "metadata": {},
   "outputs": [],
   "source": [
    "myList = list(range(100))\n",
    "filteredList = [element for element in myList if element % 7 == 0]\n",
    "otherList = [2*element if element % 7 == 0 else None for element in myList]\n",
    "dictionary = {key:value for key, value in enumerate(filteredList) }\n"
   ]
  },
  {
   "cell_type": "markdown",
   "metadata": {},
   "source": [
    "6. Encontrar números primos"
   ]
  },
  {
   "cell_type": "code",
   "execution_count": 29,
   "metadata": {},
   "outputs": [
    {
     "data": {
      "text/plain": [
       "12"
      ]
     },
     "execution_count": 29,
     "metadata": {},
     "output_type": "execute_result"
    }
   ],
   "source": [
    "def isPrime(n):\n",
    "    for i in range(2, int(n**0.5)+1):\n",
    "        if n % i == 0:\n",
    "            return False\n",
    "    return False if n < 2 else True\n",
    "\n",
    "def allPrimesUpTo(number):\n",
    "    listofPrimes = [num for num in range(1,number+1)  if isPrime(num)]\n",
    "    return listofPrimes\n",
    "\n",
    "len(allPrimesUpTo(40))"
   ]
  },
  {
   "cell_type": "markdown",
   "metadata": {},
   "source": [
    "7. Funciones Lambda"
   ]
  },
  {
   "cell_type": "code",
   "execution_count": 18,
   "metadata": {},
   "outputs": [
    {
     "name": "stdout",
     "output_type": "stream",
     "text": [
      "10\n",
      "50\n",
      "[{'num': 1}, {'num': 2}, {'num': 3}, {'num': 5}]\n",
      "['C', 'A', 'B']\n",
      "[2, 4, 6, 8, 10]\n"
     ]
    }
   ],
   "source": [
    "#Función lambda\n",
    "print((lambda x: x**2 + 1)(3))\n",
    "#Función lambda con condicionales\n",
    "print((lambda x: 100 if x > 100 else (50 if x > 50 else x))(75))\n",
    "#funcion lambda usada para organizar una lista de diccionarios\n",
    "myList = [{'num':3}, {'num': 5}, {'num': 2}, {'num': 1}]\n",
    "print(sorted(myList, key = lambda x: x['num']))\n",
    "#function lambda usada para organizar un diccionario\n",
    "my_dict = {\"A\": 1, \"B\": 2, \"C\": 3}\n",
    "print(sorted(my_dict, key=lambda x: my_dict[x]%3)) # Retorna ['C', 'A', 'B']\n",
    "#función lambda para filtrar elementos de una lista\n",
    "mi_lista = [1, 2, 3, 4, 5, 6, 7, 8, 9, 10]\n",
    "filtrado = filter(lambda x: x % 2 == 0, mi_lista)\n",
    "print(list(filtrado))\n",
    "#función lambda para generar una lista\n",
    "print(list(map(lambda x: x**2, range(1,11))))"
   ]
  },
  {
   "cell_type": "markdown",
   "metadata": {},
   "source": [
    "8. Try/Except Errors in Python"
   ]
  },
  {
   "cell_type": "code",
   "execution_count": 15,
   "metadata": {},
   "outputs": [
    {
     "name": "stdout",
     "output_type": "stream",
     "text": [
      "this program takes 0.4093284606933594 seconds to execute\n"
     ]
    },
    {
     "data": {
      "text/plain": [
       "ZeroDivisionError('division by zero')"
      ]
     },
     "execution_count": 15,
     "metadata": {},
     "output_type": "execute_result"
    }
   ],
   "source": [
    "import time\n",
    "def causeError():\n",
    "    startTime = time.time()\n",
    "    try:\n",
    "        time.sleep(0.4)  #detiene la ejecución del programa por X segundos\n",
    "        1/0 #error de división por cero\n",
    "    except Exception as e: #retorna el error como una excepción\n",
    "        return e\n",
    "    finally:\n",
    "        print(f'this program takes {time.time() - startTime} seconds to execute')\n",
    "causeError()"
   ]
  },
  {
   "cell_type": "markdown",
   "metadata": {},
   "source": [
    "9. Custom decorators"
   ]
  },
  {
   "cell_type": "code",
   "execution_count": 25,
   "metadata": {},
   "outputs": [
    {
     "data": {
      "text/plain": [
       "Exception('Cannot divide by zero!')"
      ]
     },
     "execution_count": 25,
     "metadata": {},
     "output_type": "execute_result"
    }
   ],
   "source": [
    "def handleExceptions(func):\n",
    "    def wrapper(*args):\n",
    "        try:\n",
    "            func(*args)\n",
    "        except Exception as e: #retorna el error como una excepción\n",
    "            return e\n",
    "    return wrapper\n",
    "    \n",
    "@handleExceptions\n",
    "def causeError():\n",
    "    return 1/0\n",
    "\n",
    "@handleExceptions\n",
    "def raiseError(n):\n",
    "    if n == 0:\n",
    "        raise Exception(\"Cannot divide by zero!\")\n",
    "    print(1/n)\n",
    "raiseError(0)"
   ]
  },
  {
   "cell_type": "markdown",
   "metadata": {},
   "source": [
    "10. Custom Exceptions"
   ]
  },
  {
   "cell_type": "code",
   "execution_count": 26,
   "metadata": {},
   "outputs": [
    {
     "ename": "ServerError",
     "evalue": "Status code: 500 and message is: Server messed up!",
     "output_type": "error",
     "traceback": [
      "\u001b[1;31m---------------------------------------------------------------------------\u001b[0m",
      "\u001b[1;31mServerError\u001b[0m                               Traceback (most recent call last)",
      "Cell \u001b[1;32mIn[26], line 18\u001b[0m\n\u001b[0;32m     15\u001b[0m \u001b[38;5;28;01mdef\u001b[39;00m \u001b[38;5;21mserverError\u001b[39m():\n\u001b[0;32m     16\u001b[0m     \u001b[38;5;28;01mraise\u001b[39;00m ServerError()\n\u001b[1;32m---> 18\u001b[0m \u001b[43mserverError\u001b[49m\u001b[43m(\u001b[49m\u001b[43m)\u001b[49m\n",
      "Cell \u001b[1;32mIn[26], line 16\u001b[0m, in \u001b[0;36mserverError\u001b[1;34m()\u001b[0m\n\u001b[0;32m     15\u001b[0m \u001b[38;5;28;01mdef\u001b[39;00m \u001b[38;5;21mserverError\u001b[39m():\n\u001b[1;32m---> 16\u001b[0m     \u001b[38;5;28;01mraise\u001b[39;00m ServerError()\n",
      "\u001b[1;31mServerError\u001b[0m: Status code: 500 and message is: Server messed up!"
     ]
    }
   ],
   "source": [
    "class HttpException(Exception):\n",
    "    statusCode = None\n",
    "    message = None\n",
    "    def __init__(self):\n",
    "        super().__init__(f'Status code: {self.statusCode} and message is: {self.message}')\n",
    "\n",
    "class NotFound(HttpException):\n",
    "    statusCode = 404\n",
    "    message = 'Resource not found'\n",
    "\n",
    "class ServerError(HttpException):\n",
    "    statusCode = 500\n",
    "    message = 'Server messed up!'\n",
    "\n",
    "def serverError():\n",
    "    raise ServerError()\n",
    "\n",
    "serverError()"
   ]
  },
  {
   "cell_type": "markdown",
   "metadata": {},
   "source": [
    "11. MultiThreading\n",
    "\n",
    "Programas que se corren por separado pero que comparten un archivo de memoria. Se llaman sub-procesos"
   ]
  },
  {
   "cell_type": "code",
   "execution_count": 2,
   "metadata": {},
   "outputs": [
    {
     "name": "stdout",
     "output_type": "stream",
     "text": [
      "{39: 1521, 18: 324, 11: 121, 46: 2116, 37: 1369, 33: 1089, 32: 1024, 29: 841, 28: 784, 25: 625, 24: 576, 21: 441, 20: 400, 17: 289, 16: 256, 13: 169, 12: 144, 9: 81, 8: 64, 42: 1764, 5: 25, 4: 16, 38: 1444, 1: 1, 0: 0, 35: 1225, 34: 1156, 53: 2809, 31: 961, 52: 2704, 30: 900, 27: 729, 49: 2401, 48: 2304, 23: 529, 26: 676, 45: 2025, 22: 484, 41: 1681, 19: 361, 44: 1936, 15: 225, 14: 196, 7: 49, 40: 1600, 10: 100, 6: 36, 3: 9, 2: 4, 51: 2601, 50: 2500, 47: 2209, 36: 1296, 43: 1849, 98: 9604, 97: 9409, 99: 9801, 92: 8464, 95: 9025, 74: 5476, 60: 3600, 89: 7921, 91: 8281, 87: 7569, 86: 7396, 83: 6889, 82: 6724, 96: 9216, 79: 6241, 93: 8649, 88: 7744, 94: 8836, 75: 5625, 85: 7225, 84: 7056, 78: 6084, 81: 6561, 80: 6400, 76: 5776, 100: 10000, 77: 5929, 71: 5041, 73: 5329, 72: 5184, 70: 4900, 69: 4761, 68: 4624, 65: 4225, 64: 4096, 67: 4489, 66: 4356, 61: 3721, 56: 3136, 57: 3249, 59: 3481, 63: 3969, 90: 8100, 62: 3844, 58: 3364, 55: 3025, 54: 2916}\n"
     ]
    }
   ],
   "source": [
    "import threading\n",
    "import time\n",
    "\n",
    "#hay que definir la función para guardar los resultados en la memoria del programa ya que con threading, los resultados con return no se guardan\n",
    "def longSquare(num, results):\n",
    "    time.sleep(1)\n",
    "    results[num] = num**2\n",
    "\n",
    "results = {}\n",
    "#si ejecutamos esta función de manera convencional para calcular el cuadrado de varios números se demoraria mucho\n",
    "# [longSquare(n, results) for n in range(0,101)]\n",
    "#Es mejor usar para estos casos el threading, para realizar los calculos en paralelo\n",
    "\n",
    "#en serie, es decir, ejecutar la función para cada numero duraria 100 segundos pero en paralelo solo 1 segundo\n",
    "threads = [threading.Thread(target=longSquare, args = (n, results)) for n in range (0,101)]\n",
    "[t.start() for t in threads]\n",
    "[t.join() for t in threads]\n",
    "print(results)"
   ]
  },
  {
   "cell_type": "markdown",
   "metadata": {},
   "source": [
    "12. Multiprocessing\n",
    "\n",
    "Programas que se corren por separado pero que NO comparten un archivo de memoria común. Son programas que corren independientemente"
   ]
  },
  {
   "cell_type": "code",
   "execution_count": 7,
   "metadata": {},
   "outputs": [
    {
     "data": {
      "text/plain": [
       "[None, None, None, None, None, None, None, None, None, None]"
      ]
     },
     "execution_count": 7,
     "metadata": {},
     "output_type": "execute_result"
    }
   ],
   "source": [
    "#pip install multiprocess\n",
    "from multiprocess import Process\n",
    "import time\n",
    "\n",
    "#in this case the best way to store de results are by printing it in a file stored in the local memory\n",
    "def longSquare(num, results):\n",
    "    time.sleep(1)\n",
    "    print(num**2)\n",
    "    print(\"finished computing!\")\n",
    "\n",
    "results = {}\n",
    "\n",
    "processes = [Process(target=longSquare, args = (n, results)) for n in range (0,10)]\n",
    "[p.start() for p in processes]\n",
    "[p.join() for p in processes]"
   ]
  },
  {
   "cell_type": "code",
   "execution_count": null,
   "metadata": {},
   "outputs": [],
   "source": []
  }
 ],
 "metadata": {
  "kernelspec": {
   "display_name": "base",
   "language": "python",
   "name": "python3"
  },
  "language_info": {
   "codemirror_mode": {
    "name": "ipython",
    "version": 3
   },
   "file_extension": ".py",
   "mimetype": "text/x-python",
   "name": "python",
   "nbconvert_exporter": "python",
   "pygments_lexer": "ipython3",
   "version": "3.9.16"
  }
 },
 "nbformat": 4,
 "nbformat_minor": 2
}
