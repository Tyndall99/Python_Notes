{
 "cells": [
  {
   "cell_type": "markdown",
   "metadata": {},
   "source": [
    "## Introducción a SQL en Python"
   ]
  },
  {
   "cell_type": "markdown",
   "metadata": {},
   "source": [
    "1. SQL Lite Python"
   ]
  },
  {
   "cell_type": "code",
   "execution_count": 22,
   "metadata": {},
   "outputs": [],
   "source": [
    "import sqlite3\n",
    "\n",
    "connection = sqlite3.connect('Databases/movies.db')\n",
    "cursor = connection.cursor()\n",
    "# TODO: Creamos una tabla dentro del archivo de database \"movies.db\"\n",
    "cursor.execute(''' CREATE TABLE IF NOT EXISTS Movies\n",
    "    (Title TEXT, Director TEXT, Year INT)  ''')\n",
    "\n",
    "connection.commit()\n",
    "connection.close()"
   ]
  },
  {
   "cell_type": "markdown",
   "metadata": {},
   "source": [
    "Vamos a modificar ahora la tabla que creamos"
   ]
  },
  {
   "cell_type": "code",
   "execution_count": 23,
   "metadata": {},
   "outputs": [
    {
     "name": "stdout",
     "output_type": "stream",
     "text": [
      "[('Taxi Driver', 'Martin Scorsese', 1976), ('Pulp Fiction', 'Quentin Tarantino', 1994), ('Back to the Future', 'Steven Spielberg', 1985), ('Moonrise Kingdom', 'Wes Anderson', 2012)]\n"
     ]
    }
   ],
   "source": [
    "import sqlite3\n",
    "\n",
    "connection = sqlite3.connect('Databases/movies.db')\n",
    "cursor = connection.cursor()\n",
    "# TODO: Añadimos información a la tabla creada previamente en \"movies.db\"\n",
    "\n",
    "cursor.execute(\"INSERT INTO Movies VALUES ('Taxi Driver', 'Martin Scorsese', 1976)\")\n",
    "#cursor.execute(\"SELECT * FROM Movies\")\n",
    "\n",
    "famous_films = [('Pulp Fiction', 'Quentin Tarantino', 1994), ('Back to the Future', 'Steven Spielberg', 1985),\n",
    "                ('Moonrise Kingdom', 'Wes Anderson', 2012)]\n",
    "\n",
    "cursor.executemany('INSERT INTO Movies VALUES (?,?,?)', famous_films)\n",
    "\n",
    "records = cursor.execute(\"SELECT * FROM Movies\")\n",
    "\n",
    "print(cursor.fetchall())\n",
    "\n",
    "for record in records:\n",
    "    print(record)\n",
    "\n",
    "connection.commit()\n",
    "connection.close()"
   ]
  },
  {
   "cell_type": "markdown",
   "metadata": {},
   "source": [
    "Ahora podemos filtrar datos de la tabla"
   ]
  },
  {
   "cell_type": "code",
   "execution_count": 24,
   "metadata": {},
   "outputs": [
    {
     "name": "stdout",
     "output_type": "stream",
     "text": [
      "[('Back to the Future', 'Steven Spielberg', 1985)]\n"
     ]
    }
   ],
   "source": [
    "connection = sqlite3.connect('Databases/movies.db')\n",
    "cursor = connection.cursor()\n",
    "\n",
    "release_year = (1985,)\n",
    "\n",
    "cursor.execute(\"SELECT * FROM Movies WHERE Year = ?\", release_year)\n",
    "\n",
    "print(cursor.fetchall())\n",
    "\n",
    "connection.commit()\n",
    "connection.close()"
   ]
  },
  {
   "cell_type": "markdown",
   "metadata": {},
   "source": [
    "2. SQLAlchemist, es un método de OBJECT RELATIOTAL MAPPING"
   ]
  },
  {
   "cell_type": "code",
   "execution_count": 10,
   "metadata": {},
   "outputs": [
    {
     "name": "stdout",
     "output_type": "stream",
     "text": [
      "('Taxi Driver', 'Martin Scorsese', 1976)\n",
      "[('Taxi Driver', 'Martin Scorsese', 1976), ('Pulp Fiction', 'Quentin Tarantino', 1994), ('Back to the Future', 'Steven Spielberg', 1985)]\n",
      "[('Taxi Driver', 'Martin Scorsese', 1976)]\n",
      "[('Taxi Driver', 'Martin Scorsese', 1976), ('Pulp Fiction', 'Quentin Tarantino', 1994), ('Back to the Future', 'Steven Spielberg', 1985), ('Moonrise Kingdom', 'Wes Anderson', 2012), ('La desaparición de Suzumiya Haruhi', 'Yasuhiro Takemoto', 2010)]\n"
     ]
    }
   ],
   "source": [
    "#pip install sqlalchemy\n",
    "import sqlalchemy as db\n",
    "\n",
    "engine = db.create_engine('sqlite:///Databases/movies.db') #Permite tener múltiples conexiones de bases de datos\n",
    "\n",
    "connection = engine.connect()\n",
    "\n",
    "metadata = db.MetaData()\n",
    "\n",
    "movies = db.Table('Movies', metadata, autoload = True, autoload_with = engine)\n",
    "\n",
    "#Hacer una query para, por ejemplo, acceder a la información\n",
    "query = db.select([movies])\n",
    "\n",
    "result_proxy = connection.execute(query)\n",
    "\n",
    "result_set = result_proxy.fetchall()\n",
    "\n",
    "print(result_set[0])\n",
    "print(result_set[:-1])\n",
    "\n",
    "#Se pueden hacer querys para acceder a información filtrada\n",
    "query_2 = db.select([movies]).where(movies.columns.Director == \"Martin Scorsese\" )\n",
    "result_proxy = connection.execute(query_2)\n",
    "result_set = result_proxy.fetchall()\n",
    "print(result_set)\n",
    "\n",
    "#Se pueden hacer querys para insertar información en las tablas\n",
    "query_3 = movies.insert().values(Title = 'La desaparición de Suzumiya Haruhi', Director = 'Yasuhiro Takemoto', Year = '2010')\n",
    "connection.execute(query_3)\n",
    "query = db.select([movies])\n",
    "result_proxy = connection.execute(query)\n",
    "result_set = result_proxy.fetchall()\n",
    "print(result_set)"
   ]
  },
  {
   "cell_type": "markdown",
   "metadata": {},
   "source": [
    "Ejercicio: \n",
    "\n",
    "a. Crear una Base de Datos, usando SQLite o SQLalchemy. Agregar una tabla con 'User_id' 'First Name', 'Last Name', 'Email Address'\n",
    "\n",
    "b. Crear un Query para obtener los 'Email Address' de la tabla"
   ]
  },
  {
   "cell_type": "code",
   "execution_count": 2,
   "metadata": {},
   "outputs": [
    {
     "name": "stdout",
     "output_type": "stream",
     "text": [
      "[('cristian_klndy2@outlook.com',), ('nose1@outlook.com',), ('mar.celybarrrera@gmail.com',), ('jomar1@gmail.com',), ('nose2@outlook.com',)]\n"
     ]
    }
   ],
   "source": [
    "import sqlite3\n",
    "\n",
    "connection = sqlite3.connect('Databases/users.db')\n",
    "cursor = connection.cursor()\n",
    "# TODO: Creamos una tabla dentro del archivo de database \"users.db\"\n",
    "cursor.execute(''' CREATE TABLE IF NOT EXISTS Users\n",
    "    (User_id INTEGER PRIMARY KEY AUTOINCREMENT, FirstName TEXT, LastName TEXT, EmailAddress TEXT)  ''')\n",
    "# El PRIMARY KEY sirve para luego relacionar con otras tablas, y el AUTO INCREMENT asigna un numero automaticamente\n",
    "\n",
    "users = [('Cristian', 'Hernandez', 'cristian_klndy2@outlook.com'), ('Angelica', 'Angarita', 'nose1@outlook.com'),\n",
    "                ('Martha', 'Cely', 'mar.celybarrrera@gmail.com'), ('Jose Omar', 'Hernandez', 'jomar1@gmail.com'),\n",
    "                ('Dallendys', 'Maestre', 'nose2@outlook.com')]\n",
    "\n",
    "cursor.executemany('INSERT INTO Users(FirstName, LastName, EmailAddress) VALUES (?,?,?)', users)\n",
    "records = cursor.execute(\"SELECT EmailAddress FROM Users\")\n",
    "print(cursor.fetchall())\n",
    "\n",
    "connection.commit()\n",
    "connection.close()"
   ]
  },
  {
   "cell_type": "code",
   "execution_count": 3,
   "metadata": {},
   "outputs": [
    {
     "name": "stdout",
     "output_type": "stream",
     "text": [
      "[('cristian_klndy2@outlook.com',), ('nose1@outlook.com',), ('mar.celybarrrera@gmail.com',), ('jomar1@gmail.com',), ('nose2@outlook.com',), ('keren.maestre@gmail.com',)]\n"
     ]
    }
   ],
   "source": [
    "import sqlalchemy as db\n",
    "\n",
    "engine = db.create_engine('sqlite:///Databases/users.db')\n",
    "connection = engine.connect()\n",
    "metadata = db.MetaData()\n",
    "users = db.Table('Users', metadata, autoload = True, autoload_with = engine)\n",
    "\n",
    "#Create a table in Sqlalchemy\n",
    "#users = db.Table('Users', metadata, db.Column('User_id', db.Integer, primary_key = True)\n",
    "#                 db.Column('FirstName', db.Text)\n",
    "#                 db.Column('LastName' , db.Text)\n",
    "#                 db.Column('EmailAddress', db.Text))\n",
    "\n",
    "query_1 = users.insert().values([{'User_id': '6', 'FirstName': 'Keren', 'LastName': 'Maestre', 'EmailAddress': 'keren.maestre@gmail.com'}])\n",
    "result_proxy = connection.execute(query_1)\n",
    "\n",
    "query_2 = db.select([ users.columns.EmailAddress ])\n",
    "result_proxy_2 = connection.execute(query_2)\n",
    "result_set = result_proxy_2.fetchall()\n",
    "print(result_set)"
   ]
  },
  {
   "cell_type": "code",
   "execution_count": null,
   "metadata": {},
   "outputs": [],
   "source": []
  }
 ],
 "metadata": {
  "kernelspec": {
   "display_name": "base",
   "language": "python",
   "name": "python3"
  },
  "language_info": {
   "codemirror_mode": {
    "name": "ipython",
    "version": 3
   },
   "file_extension": ".py",
   "mimetype": "text/x-python",
   "name": "python",
   "nbconvert_exporter": "python",
   "pygments_lexer": "ipython3",
   "version": "3.9.16"
  }
 },
 "nbformat": 4,
 "nbformat_minor": 2
}
