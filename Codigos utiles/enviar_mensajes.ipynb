{
 "cells": [
  {
   "cell_type": "markdown",
   "metadata": {},
   "source": [
    "1. Enviar mensajes de Email\n",
    "\n",
    "Primero necesitamos sincronizar nuestro e-mail con el protocolo SMTP. Para ello hay que activar los mensajes POP en nuestro email de preferencia y copiar los datos del servidor SMTP"
   ]
  },
  {
   "cell_type": "code",
   "execution_count": 16,
   "metadata": {},
   "outputs": [],
   "source": [
    "import smtplib\n",
    "SENDER_EMAIL = 'chernandezcely@gmail.com'\n",
    "SENDER_PASSWORD = 'ulhl lmnn ekyy stli'\n",
    "\n",
    "def send_email(receiver_email, subject, body):\n",
    "    message = f'Subject:{subject}\\n\\n{body}'\n",
    "    with smtplib.SMTP('smtp.gmail.com', 587) as server:\n",
    "        server.ehlo()\n",
    "        server.starttls()\n",
    "        server.ehlo()\n",
    "        server.login(SENDER_EMAIL, SENDER_PASSWORD)\n",
    "        server.sendmail(SENDER_EMAIL, receiver_email, message)\n",
    "\n",
    "send_email('cristian_klndy2@outlook.com', 'Correo de prueba', 'Este es un correo de prueba enviado desde Python, es el primer correo automatico que envio')"
   ]
  },
  {
   "cell_type": "code",
   "execution_count": null,
   "metadata": {},
   "outputs": [],
   "source": []
  }
 ],
 "metadata": {
  "kernelspec": {
   "display_name": "base",
   "language": "python",
   "name": "python3"
  },
  "language_info": {
   "codemirror_mode": {
    "name": "ipython",
    "version": 3
   },
   "file_extension": ".py",
   "mimetype": "text/x-python",
   "name": "python",
   "nbconvert_exporter": "python",
   "pygments_lexer": "ipython3",
   "version": "3.9.16"
  }
 },
 "nbformat": 4,
 "nbformat_minor": 2
}
