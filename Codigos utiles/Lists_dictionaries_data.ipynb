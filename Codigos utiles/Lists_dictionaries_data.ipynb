{
 "cells": [
  {
   "cell_type": "markdown",
   "metadata": {},
   "source": [
    "1. Encontrar los índices de un elemento dentro de una lista"
   ]
  },
  {
   "cell_type": "code",
   "execution_count": 6,
   "metadata": {},
   "outputs": [
    {
     "data": {
      "text/plain": [
       "[[0, 1], [1], [2, 1], [2, 2, 0], [2, 2, 2]]"
      ]
     },
     "execution_count": 6,
     "metadata": {},
     "output_type": "execute_result"
    }
   ],
   "source": [
    "def index_all(search_list, item):\n",
    "    index_list = []\n",
    "    for index, value in enumerate(search_list):\n",
    "        if value == item:\n",
    "            index_list.append([index])\n",
    "        elif isinstance(search_list[index], list):\n",
    "            for i in index_all(search_list[index],item):\n",
    "                index_list.append([index] + i)\n",
    "    return index_list\n",
    "example = [[1,3,4,5],3,[2,3,[3,5,3,1]]]\n",
    "index_all(example,3)"
   ]
  },
  {
   "cell_type": "markdown",
   "metadata": {},
   "source": [
    "2. Guardar un diccionario\n",
    "\n",
    "En Python la función 'pickle' permite serializar un objeto convirtiendolo en un Byte stream que puede ser guardado como un archivo."
   ]
  },
  {
   "cell_type": "code",
   "execution_count": 5,
   "metadata": {},
   "outputs": [
    {
     "data": {
      "text/plain": [
       "{'a': 'amazing', 'b': 'binary data', 'c': 'colour'}"
      ]
     },
     "execution_count": 5,
     "metadata": {},
     "output_type": "execute_result"
    }
   ],
   "source": [
    "import pickle\n",
    "\n",
    "def save_dict(dict_to_save,save_path):\n",
    "    with open(save_path, 'wb') as file: #'wb' is for write binary data\n",
    "        pickle.dump(dict_to_save, file)\n",
    "\n",
    "def load_dict(file_path):\n",
    "    with open(file_path, 'rb') as file: #'rb' is for read binary data\n",
    "        return pickle.load(file)\n",
    "    \n",
    "test_dict = {\"a\": \"amazing\", \"b\":\"binary data\", \"c\": \"colour\"}\n",
    "\n",
    "save_dict(test_dict, \"test_dict.txt\")\n",
    "dictreaded = load_dict(\"test_dict.txt\")\n",
    "dictreaded"
   ]
  },
  {
   "cell_type": "markdown",
   "metadata": {},
   "source": [
    "3. Merge csv files"
   ]
  },
  {
   "cell_type": "code",
   "execution_count": null,
   "metadata": {},
   "outputs": [],
   "source": [
    "import csv\n",
    "\n",
    "def merge_csv(csv_list, output_path):\n",
    "    #build list with all field names\n",
    "    fieldnames = []\n",
    "    for file in csv_list:\n",
    "        with open(file, 'r', encoding='utf-8') as input_csv:\n",
    "            field = csv.DictReader(input_csv).fieldnames\n",
    "            fieldnames.extend(f for f in field if f not in fieldnames)\n",
    "\n",
    "    #wirte data to output file based on field names\n",
    "    with open(output_path, 'w', encoding='utf-8', newline='') as output_csv:\n",
    "        writer = csv.DictWriter(output_csv, fieldnames=fieldnames)\n",
    "        writer.writeheader()\n",
    "        for file in csv_list:\n",
    "            with open(file, 'r', encoding='utf-8') as input_csv:\n",
    "                reader = csv.DictReader(input_csv)\n",
    "                for row in reader:\n",
    "                    writer.writerow(row)"
   ]
  }
 ],
 "metadata": {
  "kernelspec": {
   "display_name": "base",
   "language": "python",
   "name": "python3"
  },
  "language_info": {
   "codemirror_mode": {
    "name": "ipython",
    "version": 3
   },
   "file_extension": ".py",
   "mimetype": "text/x-python",
   "name": "python",
   "nbconvert_exporter": "python",
   "pygments_lexer": "ipython3",
   "version": "3.9.16"
  }
 },
 "nbformat": 4,
 "nbformat_minor": 2
}
