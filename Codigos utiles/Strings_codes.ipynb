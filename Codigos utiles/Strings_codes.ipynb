{
 "cells": [
  {
   "cell_type": "markdown",
   "metadata": {},
   "source": [
    "1. Encontrar un palíndromo"
   ]
  },
  {
   "cell_type": "code",
   "execution_count": 29,
   "metadata": {},
   "outputs": [],
   "source": [
    "import re\n",
    "def isPalindrome(string):\n",
    "    forwards = ''.join(re.findall(r'[a-z]+', string.lower())) #the r'' is a python raw string\n",
    "    backwards = forwards[::-1]\n",
    "    return forwards == backwards"
   ]
  },
  {
   "cell_type": "markdown",
   "metadata": {},
   "source": [
    "2. Ordenar palabras alfabeticamente"
   ]
  },
  {
   "cell_type": "code",
   "execution_count": 37,
   "metadata": {},
   "outputs": [],
   "source": [
    "def sortWords(words):\n",
    "    return ' '.join(sorted(words.split(), key=str.casefold))\n"
   ]
  },
  {
   "cell_type": "markdown",
   "metadata": {},
   "source": [
    "3. Encontrar palabras únicas en un texto"
   ]
  },
  {
   "cell_type": "code",
   "execution_count": 1,
   "metadata": {},
   "outputs": [
    {
     "name": "stdout",
     "output_type": "stream",
     "text": [
      "\n",
      "Total Words 194206\n",
      "\n",
      "Top 20 words:\n",
      "Y\t8746\n",
      "DE\t8151\n",
      "A\t6852\n",
      "QUE\t6333\n",
      "LA\t4624\n",
      "EL\t4530\n",
      "EN\t3889\n",
      "LOS\t3751\n",
      "N\t3432\n",
      "SE\t2587\n",
      "NO\t2586\n",
      "S\t2410\n",
      "POR\t2021\n",
      "PARA\t1497\n",
      "DIOS\t1400\n",
      "DEL\t1381\n",
      "LE\t1378\n",
      "CON\t1323\n",
      "ES\t1301\n",
      "PORQUE\t1289\n",
      "LO\t1203\n",
      "OS\t1182\n",
      "AL\t1179\n",
      "IS\t1173\n",
      "LAS\t1126\n",
      "L\t1125\n",
      "SU\t1107\n",
      "JES\t1029\n",
      "DIJO\t959\n",
      "PERO\t868\n",
      "VOSOTROS\t868\n",
      "O\t779\n",
      "COMO\t776\n",
      "OR\t755\n",
      "M\t719\n",
      "AS\t708\n",
      "SI\t700\n",
      "TAMBI\t672\n",
      "UN\t670\n",
      "D\t663\n",
      "HAB\t632\n",
      "EST\t623\n",
      "SUS\t610\n",
      "LES\t608\n",
      "ELLOS\t607\n",
      "YO\t597\n",
      "ME\t566\n",
      "SER\t564\n",
      "ENTONCES\t562\n",
      "PUES\t541\n"
     ]
    }
   ],
   "source": [
    "import re\n",
    "import collections\n",
    "\n",
    "def count_words(path):\n",
    "    with open(path, 'r', encoding='latin-1') as file:\n",
    "        all_words = re.findall(r\"[0-9a-zA-Z]+\", file.read())\n",
    "        all_words = [word.upper() for word in all_words]\n",
    "        print(f\"\\nTotal Words {len(all_words)}\")\n",
    "    \n",
    "        word_counts = collections.Counter(all_words)\n",
    "\n",
    "        print(\"\\nTop 20 words:\")\n",
    "        for word in word_counts.most_common(50):\n",
    "            print(f'{word[0]}\\t{word[1]}')\n",
    "\n",
    "count_words(\"documentos/biblia.txt\")"
   ]
  },
  {
   "cell_type": "code",
   "execution_count": null,
   "metadata": {},
   "outputs": [],
   "source": []
  }
 ],
 "metadata": {
  "kernelspec": {
   "display_name": "base",
   "language": "python",
   "name": "python3"
  },
  "language_info": {
   "codemirror_mode": {
    "name": "ipython",
    "version": 3
   },
   "file_extension": ".py",
   "mimetype": "text/x-python",
   "name": "python",
   "nbconvert_exporter": "python",
   "pygments_lexer": "ipython3",
   "version": "3.9.16"
  }
 },
 "nbformat": 4,
 "nbformat_minor": 2
}
