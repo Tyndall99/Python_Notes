{
 "cells": [
  {
   "cell_type": "markdown",
   "metadata": {},
   "source": [
    "### Códigos relacionados con el mundo de los números primos y la criptografía"
   ]
  },
  {
   "cell_type": "markdown",
   "metadata": {},
   "source": [
    "1. Algunos algoritmos sencillos de números primos, que tienen un coste computacional de $O(x^n)$"
   ]
  },
  {
   "cell_type": "code",
   "execution_count": null,
   "metadata": {},
   "outputs": [],
   "source": [
    "def isPrime(n):\n",
    "    \"\"\"\n",
    "    Función para definir si un número entero es primo\n",
    "    \"\"\"\n",
    "    for i in range(2, int(n**0.5)+1):\n",
    "        if n % i == 0:\n",
    "            return False\n",
    "    return False if n < 2 else True\n",
    "\n",
    "def allPrimesUpTo(number):\n",
    "    \"\"\"\n",
    "    Función para encontrar una lista de números primos hasta cierto número\n",
    "    \"\"\"\n",
    "    listofPrimes = [num for num in range(1,number+1)  if isPrime(num)]\n",
    "    return listofPrimes"
   ]
  },
  {
   "cell_type": "code",
   "execution_count": 84,
   "metadata": {},
   "outputs": [],
   "source": [
    "def primeFactor(number):\n",
    "    \"\"\"\n",
    "    Función para factorizar con números primos\n",
    "    \"\"\"\n",
    "    list = []\n",
    "    while number % 2 == 0:\n",
    "            list += [2]\n",
    "            number = number/2\n",
    "    \n",
    "    for prime in range(3, int(number/2)+1, 2):\n",
    "        while number % prime == 0:\n",
    "            list += [prime]\n",
    "            number = number/prime\n",
    "\n",
    "    return list"
   ]
  },
  {
   "cell_type": "markdown",
   "metadata": {},
   "source": [
    "2. Generar contraseñas"
   ]
  },
  {
   "cell_type": "code",
   "execution_count": 1,
   "metadata": {},
   "outputs": [
    {
     "data": {
      "text/plain": [
       "'lengua 318 vasto toca'"
      ]
     },
     "execution_count": 1,
     "metadata": {},
     "output_type": "execute_result"
    }
   ],
   "source": [
    "import secrets\n",
    "\n",
    "def generate_passphrase(num_words, wordlist_path = 'documentos/diceware-español.txt'):\n",
    "    with open(wordlist_path, 'r', encoding = 'latin-1') as file:\n",
    "        lines = file.readlines()[38:7814]\n",
    "        word_list = [line.split()[1] for line in lines]\n",
    "\n",
    "    words = [secrets.choice(word_list) for i in range(num_words)]\n",
    "    return ' '.join(words)\n",
    "generate_passphrase(4)"
   ]
  },
  {
   "cell_type": "code",
   "execution_count": null,
   "metadata": {},
   "outputs": [],
   "source": []
  }
 ],
 "metadata": {
  "kernelspec": {
   "display_name": "base",
   "language": "python",
   "name": "python3"
  },
  "language_info": {
   "codemirror_mode": {
    "name": "ipython",
    "version": 3
   },
   "file_extension": ".py",
   "mimetype": "text/x-python",
   "name": "python",
   "nbconvert_exporter": "python",
   "pygments_lexer": "ipython3",
   "version": "3.9.16"
  }
 },
 "nbformat": 4,
 "nbformat_minor": 2
}
