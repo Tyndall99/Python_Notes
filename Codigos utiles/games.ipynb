{
 "cells": [
  {
   "cell_type": "markdown",
   "metadata": {},
   "source": [
    "1. The waiting game"
   ]
  },
  {
   "cell_type": "code",
   "execution_count": 4,
   "metadata": {},
   "outputs": [
    {
     "name": "stdout",
     "output_type": "stream",
     "text": [
      "This is the waiting game\n",
      "You have to wait 5 seconds, and then press ENTER.\n",
      "Are you ready?\n",
      "Elapsed time: 5.143 seconds\n",
      "UH OH! You press ENTER -0.143 seconds too slow!\n"
     ]
    }
   ],
   "source": [
    "import time\n",
    "import random\n",
    "\n",
    "def waiting_game():\n",
    "    time_to_wait = random.randint(2,5)\n",
    "    print(\"This is the waiting game\")\n",
    "    print(f\"You have to wait {time_to_wait} seconds, and then press ENTER.\")\n",
    "    print(\"Are you ready?\")\n",
    "\n",
    "    input(\"---Please press ENTER to start!---\")\n",
    "    start_time = time.perf_counter()\n",
    "\n",
    "    input(f\"---Press again ENTER after {time_to_wait} seconds!--- \")\n",
    "    Elapsed = time.perf_counter() - start_time\n",
    "\n",
    "    print(f'Elapsed time: {Elapsed :.3f} seconds')\n",
    "    if Elapsed == time_to_wait:\n",
    "        print(f'AMAZING! YOU WIN THE GAME!')\n",
    "    elif Elapsed < time_to_wait:\n",
    "        print(f'UH OH! You press ENTER {time_to_wait - Elapsed:.3f} seconds too fast!')\n",
    "    else:\n",
    "        print(f'UH OH! You press ENTER {time_to_wait - Elapsed:.3f} seconds too slow!')\n",
    "\n",
    "waiting_game()"
   ]
  },
  {
   "cell_type": "markdown",
   "metadata": {},
   "source": [
    "2. Schedule a Function"
   ]
  },
  {
   "cell_type": "code",
   "execution_count": 6,
   "metadata": {},
   "outputs": [
    {
     "name": "stdout",
     "output_type": "stream",
     "text": [
      "print() scheduled for Thu Feb 22 19:23:24 2024\n",
      "Hola, que tal!\n"
     ]
    }
   ],
   "source": [
    "import sched #Paquete para agendar/programar objetos y funciones en python\n",
    "import time\n",
    "\n",
    "def schedule_function(event_time, function, *args):\n",
    "    s = sched.scheduler(time.time, time.sleep)\n",
    "    s.enterabs(event_time, 1,  function, argument=args)\n",
    "    print(f'{function.__name__}() scheduled for {time.asctime(time.localtime(event_time))}')\n",
    "    s.run()\n",
    "\n",
    "schedule_function(time.time() + 10, print, \"Hola, que tal!\")"
   ]
  },
  {
   "cell_type": "markdown",
   "metadata": {},
   "source": [
    "3. Simular un dado"
   ]
  },
  {
   "cell_type": "code",
   "execution_count": 11,
   "metadata": {},
   "outputs": [
    {
     "name": "stdout",
     "output_type": "stream",
     "text": [
      "Counter({6: 166939, 5: 166513, 7: 166138, 8: 125036, 4: 124803, 3: 83713, 9: 83232, 10: 41898, 2: 41728})\n",
      "\n",
      "OUTCOME\tPROBABILITY\n",
      "2\t4.17%\n",
      "3\t8.37%\n",
      "4\t12.48%\n",
      "5\t16.65%\n",
      "6\t16.69%\n",
      "7\t16.61%\n",
      "8\t12.50%\n",
      "9\t8.32%\n",
      "10\t4.19%\n"
     ]
    }
   ],
   "source": [
    "from random import randint\n",
    "from collections import Counter\n",
    "\n",
    "def roll_dice(*dice, num_trials = 1_000_000):\n",
    "    \"\"\"\n",
    "    esta función devuelve las probabilidades de todas las posibles combinaciones\n",
    "    de dados con número de caras arbitrarios\n",
    "    \"\"\"\n",
    "    counts = Counter() #esta función cuenta valores repetidos en un diccionario\n",
    "    for _ in range(num_trials):\n",
    "        counts[sum((randint(1, sides) for sides in dice))] += 1\n",
    "    print(counts)\n",
    "    print('\\nOUTCOME\\tPROBABILITY')\n",
    "    for outcome in range(len(dice), sum(dice) + 1):\n",
    "        print(f'{outcome}\\t{counts[outcome] * 100 / num_trials:0.2f}%')"
   ]
  },
  {
   "cell_type": "code",
   "execution_count": 5,
   "metadata": {},
   "outputs": [
    {
     "data": {
      "text/plain": [
       "collections.Counter"
      ]
     },
     "execution_count": 5,
     "metadata": {},
     "output_type": "execute_result"
    }
   ],
   "source": []
  },
  {
   "cell_type": "code",
   "execution_count": null,
   "metadata": {},
   "outputs": [],
   "source": []
  }
 ],
 "metadata": {
  "kernelspec": {
   "display_name": "base",
   "language": "python",
   "name": "python3"
  },
  "language_info": {
   "codemirror_mode": {
    "name": "ipython",
    "version": 3
   },
   "file_extension": ".py",
   "mimetype": "text/x-python",
   "name": "python",
   "nbconvert_exporter": "python",
   "pygments_lexer": "ipython3",
   "version": "3.9.16"
  }
 },
 "nbformat": 4,
 "nbformat_minor": 2
}
