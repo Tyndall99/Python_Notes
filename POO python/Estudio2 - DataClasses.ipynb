{
 "cells": [
  {
   "cell_type": "markdown",
   "metadata": {},
   "source": [
    "### Data classes\n",
    "Son métodos específicos de Python para la creación de clases exclusivas para el tratamiento y almacenamiento de Datos. Estas dataclasses ya contienen por defecto los métodos __repr__ y __eq__"
   ]
  },
  {
   "cell_type": "code",
   "execution_count": 18,
   "metadata": {},
   "outputs": [
    {
     "name": "stdout",
     "output_type": "stream",
     "text": [
      "True\n",
      "Book(title='titulo genérico', author='autor genérico', pages=100, price=30.99)\n"
     ]
    },
    {
     "data": {
      "text/plain": [
       "'No title by No author, cuesta USD $0.0'"
      ]
     },
     "execution_count": 18,
     "metadata": {},
     "output_type": "execute_result"
    }
   ],
   "source": [
    "from dataclasses import dataclass\n",
    "\n",
    "@dataclass #usamos el decorador para indicar que una clase es una \"dataclass\"\n",
    "class Book:\n",
    "    # Se pueden definir valores por defecto a los atributos\n",
    "    title: str = \"No title\"\n",
    "    author: str = \"No author\"\n",
    "    pages: int = 0\n",
    "    price: float = 0.00\n",
    "\n",
    "    # TODO: la función __post_init__ nos permite customizar propiedades adicionales después de que el objeto\n",
    "    #       Haya sido inicializado con __init__\n",
    "    def __post_init__(self):\n",
    "        self.description = f'{self.title} by {self.author}, cuesta USD ${self.price}'\n",
    "\n",
    "b1 = Book(\"titulo genérico\", \"autor genérico\", 100, 30.99)\n",
    "b2 = Book(\"titulo genérico\", \"autor genérico\", 100, 30.99)\n",
    "print(b1 == b2)\n",
    "print(b1)\n",
    "b1.author = \"Gabo\"\n",
    "b1.description\n",
    "b3 = Book()\n",
    "b3.description"
   ]
  },
  {
   "cell_type": "markdown",
   "metadata": {},
   "source": [
    "2. Default attributes in dataClasses with the field function"
   ]
  },
  {
   "cell_type": "code",
   "execution_count": 23,
   "metadata": {},
   "outputs": [
    {
     "data": {
      "text/plain": [
       "Book(title='Cien años de Soledad', author='Gabo', pages=120, price=29.0)"
      ]
     },
     "execution_count": 23,
     "metadata": {},
     "output_type": "execute_result"
    }
   ],
   "source": [
    "from dataclasses import dataclass, field\n",
    "import random\n",
    "\n",
    "def price_func():\n",
    "    return float(random.randrange(20,40))\n",
    "\n",
    "@dataclass\n",
    "class Book:\n",
    "    title: str = \"No title\"\n",
    "    author: str = \"No author\"\n",
    "    pages: int = 0\n",
    "    price: float = field(default_factory=price_func)\n",
    "\n",
    "b1 = Book(\"Cien años de Soledad\", \"Gabo\", 120)\n",
    "b1"
   ]
  },
  {
   "cell_type": "markdown",
   "metadata": {},
   "source": [
    "3. DataClasses inmutables\n",
    "\n",
    "Son clases a las que se les pueden cambiar sus atributos, ni siquiera con funciones definidas dentro de la clase"
   ]
  },
  {
   "cell_type": "code",
   "execution_count": 26,
   "metadata": {},
   "outputs": [],
   "source": [
    "from dataclasses import dataclass\n",
    "\n",
    "@dataclass(frozen = True) #The \"Frozen\" parameter hace a la clase inmutable\n",
    "class ImmutableClass:\n",
    "    value1 : str = \"Value 1\"\n",
    "    value2: int = 0"
   ]
  },
  {
   "cell_type": "code",
   "execution_count": null,
   "metadata": {},
   "outputs": [],
   "source": []
  }
 ],
 "metadata": {
  "kernelspec": {
   "display_name": "base",
   "language": "python",
   "name": "python3"
  },
  "language_info": {
   "codemirror_mode": {
    "name": "ipython",
    "version": 3
   },
   "file_extension": ".py",
   "mimetype": "text/x-python",
   "name": "python",
   "nbconvert_exporter": "python",
   "pygments_lexer": "ipython3",
   "version": "3.9.16"
  }
 },
 "nbformat": 4,
 "nbformat_minor": 2
}
