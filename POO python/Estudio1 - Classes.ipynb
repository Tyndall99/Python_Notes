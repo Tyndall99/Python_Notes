{
 "cells": [
  {
   "cell_type": "markdown",
   "metadata": {},
   "source": [
    "### Elementos de Programación Orientada a Objetos en Python"
   ]
  },
  {
   "cell_type": "markdown",
   "metadata": {},
   "source": [
    "1. Algunas funciones y propiedades de las clases"
   ]
  },
  {
   "cell_type": "code",
   "execution_count": 20,
   "metadata": {},
   "outputs": [
    {
     "name": "stdout",
     "output_type": "stream",
     "text": [
      "15000.0\n"
     ]
    },
    {
     "data": {
      "text/plain": [
       "[<__main__.Book at 0x207f9f8eac0>, <__main__.Book at 0x207f9f8e340>]"
      ]
     },
     "execution_count": 20,
     "metadata": {},
     "output_type": "execute_result"
    }
   ],
   "source": [
    "class Book:\n",
    "    # TODO: Propiedades definidas al nivel de la clase que son compartidas por todas las instancias\n",
    "    BOOK_TYPES = (\"TAPA DURA\", \"DE BOLSILLO\", \"EBOOK\")\n",
    "\n",
    "    # TODO: Create a class method\n",
    "    @classmethod\n",
    "    def get_book_types(cls):\n",
    "        return cls.BOOK_TYPES\n",
    "\n",
    "    # TODO: \"__\" al inicio de los atributos que son privados de la clase\n",
    "    __booklist = []\n",
    "\n",
    "    # TODO: Crear métodos estáticos\n",
    "    def getBooklist():\n",
    "            return Book.__booklist\n",
    "\n",
    "    def __init__(self,title, booktype ,author, price): #Cuando se inicializa la clase, se llama \"instancia\"\n",
    "        self.title = title\n",
    "        # TODO: add properties\n",
    "        if not booktype in Book.BOOK_TYPES:\n",
    "            raise ValueError(f'{booktype} no es un tipo de libro válido. Ingrese si es TAPA DURA, DE BOLSILLO O EBOOK')\n",
    "        else:\n",
    "            self.booktype = booktype\n",
    "        self.author = author\n",
    "        self.price = price\n",
    "        self.__secret = 0 #se usa \"__\" al inicio de un atributo que pretende ser secreto\n",
    "\n",
    "    def getPrice(self):\n",
    "        if hasattr(self,\"_discount\"): #\"hasattr\" es una función para verificar si nuestra clase tiene un cierto atributo\n",
    "            print(self.price - (self.price*self._discount))\n",
    "        else:\n",
    "            print(self.price)\n",
    "    \n",
    "    def setDiscount(self, discount):\n",
    "        self._discount = discount # el \"_\" al inicio del atributo indica que es un artibuto privado de la clase que no se debe modificar\n",
    "\n",
    "b1 = Book('cien años de soledad', 'TAPA DURA', \"Gabo\", 30000)\n",
    "b2 = Book('El general en su laberinto', 'DE BOLSILLO', 'Gabo', 16000)\n",
    "b1.setDiscount(0.5)\n",
    "b1.getPrice()\n",
    "Book.get_book_types()\n",
    "booklist = Book.getBooklist()\n",
    "booklist.append(b1)\n",
    "booklist.append(b2)\n",
    "booklist\n"
   ]
  },
  {
   "cell_type": "markdown",
   "metadata": {},
   "source": [
    "2. Abstract Base Classes and multiple inheritance\n",
    "\n",
    "Una Abstract Base Class es una clase que queremos que permanezca privada y que sea la clase padre de otras subclases, de tal manera que los usuarios no pueda hacer uso de esta. Sin embargo, esta clase van a etiquetar las subclases que si son publicas."
   ]
  },
  {
   "cell_type": "code",
   "execution_count": 12,
   "metadata": {},
   "outputs": [
    {
     "data": {
      "text/plain": [
       "\"{'Circle area': {'12.57'}}\""
      ]
     },
     "execution_count": 12,
     "metadata": {},
     "output_type": "execute_result"
    }
   ],
   "source": [
    "from abc import ABC, abstractmethod\n",
    "\n",
    "class GraphicShape(ABC):\n",
    "    def __init__(self):\n",
    "        super().__init__()\n",
    "    \n",
    "    @abstractmethod\n",
    "    def calcArea(self):\n",
    "        pass\n",
    "\n",
    "class JSONify(ABC):\n",
    "    @abstractmethod\n",
    "    def toJSON(self):\n",
    "        pass\n",
    "\n",
    "class Circle(GraphicShape, JSONify):\n",
    "    def __init__(self, radio):\n",
    "        self.radio = radio\n",
    "\n",
    "    def calcArea(self):\n",
    "        return 3.14159 * self.radio**2\n",
    "    \n",
    "    def toJSON(self):\n",
    "        return f'{ { \"Circle area\": {str( round(self.calcArea(), 2) )} } }'\n",
    "\n",
    "C = Circle(2)\n",
    "C.calcArea()\n",
    "C.toJSON()"
   ]
  },
  {
   "cell_type": "markdown",
   "metadata": {},
   "source": [
    "3. Composición de Clases y String representation"
   ]
  },
  {
   "cell_type": "code",
   "execution_count": 7,
   "metadata": {},
   "outputs": [
    {
     "name": "stdout",
     "output_type": "stream",
     "text": [
      "Cien años de Soledad de Gabriel García Marquez tiene 50 páginas\n",
      "Cien años de Soledad de Gabriel García Marquez, cuesta 30000\n"
     ]
    },
    {
     "data": {
      "text/plain": [
       "title = Cien años de Soledad, author = Gabriel García Marquez, pages = 50, price = 30000"
      ]
     },
     "execution_count": 7,
     "metadata": {},
     "output_type": "execute_result"
    }
   ],
   "source": [
    "class Book:\n",
    "    def __init__(self, title, price, Author = None):\n",
    "        self.title = title\n",
    "        self.price = price\n",
    "        self.author = Author\n",
    "\n",
    "        self.chapters = []\n",
    "\n",
    "    def addChapter(self, Chapter):\n",
    "        return self.chapters.append(Chapter)\n",
    "    \n",
    "    def getBookPagecount(self):\n",
    "        return sum([ch.pagecount for ch in self.chapters])\n",
    "    \n",
    "    # TODO: la función __srt__ se usa para representar la clase como Str cuando se hace un display, se da UNA DESCRIPCIÓN SIMPLE\n",
    "    def __str__(self) -> str:\n",
    "        return f\"{self.title} de {self.author}, cuesta {self.price}\"\n",
    "    \n",
    "    # TODO: La función __repr__ se usa para realizar una representación tambien de str, pero se da UNA DESCRIPCIÓN COMPLETA de la clase\n",
    "    def __repr__(self) -> str:\n",
    "        return f\"title = {self.title}, author = {self.author}, pages = {self.getBookPagecount()}, price = {self.price}\"\n",
    "    \n",
    "class Author:\n",
    "    def __init__(self, fname, lname):\n",
    "        self.fname = fname\n",
    "        self.lname = lname\n",
    "\n",
    "    def __str__(self): #función para interpretar la clase como Str cuando se hace un display, se da UNA DESCRIPCIÓN SIMPLE\n",
    "        return f\"{self.fname} {self.lname}\"\n",
    "    \n",
    "    def __repr__(self): #Función para realizar una representación tambien de str, pero se da UNA DESCRIPCIÓN COMPLETA\n",
    "        return f\"Nombre = {self.fname}, Apellido = {self.lname}\"\n",
    "    \n",
    "class Chapter:\n",
    "    def __init__(self,name, pagecount):\n",
    "        self.name = name\n",
    "        self.pagecount = pagecount\n",
    "        \n",
    "author1 = Author(\"Gabriel\", \"García Marquez\")\n",
    "b1 = Book(\"Cien años de Soledad\", 30000, author1)\n",
    "b1.addChapter(Chapter(\"Capítulo 1\", 20))\n",
    "b1.addChapter(Chapter(\"Capítulo 2\", 30))\n",
    "print(b1.title, f\"de {b1.author} tiene {b1.getBookPagecount()} páginas\")\n",
    "print(b1) #si llamo al objeto a través de un print, se retorna su str\n",
    "b1 #si llamo al objeto directamente se retorna su repr\n"
   ]
  },
  {
   "cell_type": "markdown",
   "metadata": {},
   "source": [
    "4. Igualdad y comparación en Clases (Magic methods)"
   ]
  },
  {
   "cell_type": "code",
   "execution_count": 14,
   "metadata": {},
   "outputs": [],
   "source": [
    "class Book:\n",
    "    def __init__(self, title, price, Author = None):\n",
    "        self.title = title\n",
    "        self.price = price\n",
    "        self.author = Author\n",
    "\n",
    "    # TODO: El método __eq__ devuelve si dos objetos son iguales o no\n",
    "    def __eq__(self, value):\n",
    "        if not isinstance(value, Book):\n",
    "            raise ValueError(\"Can't compare Book to a non-Book\")\n",
    "        return self.title == value.title and self.price == value.price and self.author == value.author\n",
    "    \n",
    "    # TODO: El método __ge__ permite usar la operación \">=\" con algun objeto.\n",
    "    def __ge__(self, value):\n",
    "        if not isinstance(value, Book):\n",
    "            raise ValueError(\"Can't compare Book to a non-Book\")\n",
    "        return self.price >= value.price\n",
    "    \n",
    "    # TODO: El método __lt__ permite usar la operación \"<\" con algun objeto.\n",
    "    def __lt__(self, value):\n",
    "        if not isinstance(value, Book):\n",
    "            raise ValueError(\"Can't compare Book to a non-Book\")\n",
    "        return self.price < value.price\n",
    "    \n",
    "b1 = Book(\"Cien años de Soledad\", 30000, \"Gabo\")\n",
    "b2 = Book(\"El general en su laberinto\", 20000, \"Gabo\")\n",
    "b3 = Book(\"Todos los nombres\", 45000, \"Saramago\")\n",
    "b1 == b2\n",
    "b1 >= b2\n",
    "books = [b2, b1, b3]\n",
    "books.sort() #Los ordena de menor a mayor precio.\n"
   ]
  },
  {
   "cell_type": "markdown",
   "metadata": {},
   "source": [
    "5. Acceso de Atributos y llamar objetos"
   ]
  },
  {
   "cell_type": "code",
   "execution_count": 1,
   "metadata": {},
   "outputs": [
    {
     "name": "stdout",
     "output_type": "stream",
     "text": [
      "Cien años de Soledad de Gabo, cuesta 31500.0\n",
      "\"breake\" is not an attribute of Cien años de Soledad de Gabo, cuesta 31500.0\n",
      "otro libro de Gabo, cuesta 21600.0\n"
     ]
    }
   ],
   "source": [
    "from typing import Any\n",
    "\n",
    "\n",
    "class Book:\n",
    "    def __init__(self, title, price, Author = None):\n",
    "        self.title = title\n",
    "        self.price = price\n",
    "        self.author = Author\n",
    "        self._discount = 0.1\n",
    "\n",
    "    def __str__(self) -> str:\n",
    "        return f\"{self.title} de {self.author}, cuesta {self.price}\"\n",
    "    \n",
    "    # TODO: El método __getattribute__ es llamado cuando se recupera uno de los atributos.\n",
    "    def __getattribute__(self, name):\n",
    "        if name == \"price\":\n",
    "            p = super().__getattribute__(\"price\") #hacer esto sino se genera un loop recursivo\n",
    "            d = super().__getattribute__(\"_discount\")\n",
    "            return p - (p*d)\n",
    "        return super().__getattribute__(name)\n",
    "\n",
    "    # TODO: El método __setattr__ es llamado cuando se modifica uno de los atributos.\n",
    "    def __setattr__(self, name, value):\n",
    "        if name == \"price\":\n",
    "            if not isinstance(value, int):\n",
    "                raise ValueError(\"The 'price' attr must be an int!\")\n",
    "        return super().__setattr__(name, value)\n",
    "    \n",
    "    # TODO: El método __getattr__ es llamado cuando __getattribute__ falla. por ejemplo, si no hay un attr definido.\n",
    "    def __getattr__(self, name):\n",
    "        return f'\"{name}\" is not an attribute of {self}'\n",
    "   \n",
    "    # TODO: el método __call__ permite llamar al objeto como una función y redefinir algunas de sus propiedades\n",
    "    def __call__(self, title, price, Author = None):\n",
    "        self.title = title\n",
    "        self.price = price\n",
    "        self.auhor = Author\n",
    "    \n",
    "b1 = Book(\"Cien años de Soledad\", 30000, \"Gabo\")\n",
    "b1.price= 35000\n",
    "print(b1) #se hace el descuento automáticamente\n",
    "print(b1.breake)\n",
    "b1(\"otro libro\",24000, \"No es Gabo\")\n",
    "print(b1)\n"
   ]
  },
  {
   "cell_type": "code",
   "execution_count": null,
   "metadata": {},
   "outputs": [],
   "source": []
  }
 ],
 "metadata": {
  "kernelspec": {
   "display_name": "base",
   "language": "python",
   "name": "python3"
  },
  "language_info": {
   "codemirror_mode": {
    "name": "ipython",
    "version": 3
   },
   "file_extension": ".py",
   "mimetype": "text/x-python",
   "name": "python",
   "nbconvert_exporter": "python",
   "pygments_lexer": "ipython3",
   "version": "3.9.16"
  }
 },
 "nbformat": 4,
 "nbformat_minor": 2
}
